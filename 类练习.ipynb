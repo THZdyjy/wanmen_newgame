{
 "cells": [
  {
   "cell_type": "code",
   "execution_count": null,
   "metadata": {},
   "outputs": [],
   "source": [
    "\n",
    "class Restaurant():\n",
    "    def __init__(self,name,type):\n",
    "        self.name=name\n",
    "        self.type=type\n",
    "        self.number_served=0\n",
    "    def describe(self):\n",
    "        print(\"The resaurant's name is \"+self.name+\" and\"+\" it's type is \"+self.type)\n",
    "    def open(self):\n",
    "        print(\"the restaurant \"+\"'\"+self.name+\"'\"+\" is opening\")\n",
    "    def set_number_served(self,number):\n",
    "        self.number_served=number\n",
    "    def i_n_s(self,increment_number):\n",
    "        if increment_number>0:\n",
    "            self.number_served+=increment_number\n",
    "        else:\n",
    "            print(\"WARNING!!!\")\n",
    "\n",
    "\n",
    "\"\"\"创建独特的类\"\"\"\n",
    "class IceCreamStand(Restaurant):\n",
    "    def __init__(self,name,type):\n",
    "        super().__init__(name,type)\n",
    "        self.flavors=[\"apple\",\"banana\",\"grape\"]\n",
    "    def xianshi(self):\n",
    "        for flavor in self.flavors:\n",
    "            print(flavor)\n",
    "my_icecream=IceCreamStand(\"lobai\",\"icecream\")\n",
    "my_icecream.describe()\n",
    "my_icecream.open()\n",
    "my_icecream.set_number_served(41)\n",
    "my_icecream.i_n_s(10)\n",
    "print(my_icecream.number_served)\n",
    "my_icecream.xianshi()    "
   ]
  },
  {
   "cell_type": "markdown",
   "metadata": {},
   "source": [
    "###太不容易了好好学学\n"
   ]
  },
  {
   "cell_type": "code",
   "execution_count": 10,
   "metadata": {},
   "outputs": [
    {
     "name": "stdout",
     "output_type": "stream",
     "text": [
      "my name is BaiXiaodong\n",
      "add\n",
      "delete\n",
      "ban\n",
      "操作：ban\n"
     ]
    },
    {
     "data": {
      "text/plain": [
       "'ban'"
      ]
     },
     "execution_count": 10,
     "metadata": {},
     "output_type": "execute_result"
    }
   ],
   "source": [
    "class User():\n",
    "    def __init__(self,first,last):\n",
    "        self.first=first\n",
    "        self.last=last\n",
    "    def descripetion(self):\n",
    "        print(\"my name is \"+self.last+self.first)\n",
    "        \n",
    "        \n",
    "\"\"\"创造权限类\"\"\"\n",
    "class Privileges():\n",
    "    def __init__(self,privileges=[\"add\",\"delete\",\"ban\"]):\n",
    "        self.privileges=privileges\n",
    "    def show_privileges(self):\n",
    "        for privilege in self.privileges:\n",
    "            print(privilege)\n",
    "class Admin(User):\n",
    "    def __init__(self,first,last):\n",
    "        super().__init__(first,last)\n",
    "        self.privileges=Privileges()   \n",
    "mibing=Admin(\"Xiaodong\", \"Bai\")\n",
    "mibing.descripetion()\n",
    "mibing.privileges.show_privileges()  \n",
    "input(\"操作：\")"
   ]
  },
  {
   "cell_type": "code",
   "execution_count": null,
   "metadata": {},
   "outputs": [],
   "source": [
    "class Privileges():\n",
    "    def __init__(self,previleges):\n",
    "        self.previleges=[\"add\",\"delete\",\"ban\"]\n",
    "    def show_privileges():\n",
    "        for privilege in self.previleges:\n",
    "            print(privilege)"
   ]
  },
  {
   "cell_type": "code",
   "execution_count": null,
   "metadata": {},
   "outputs": [],
   "source": [
    "\n"
   ]
  }
 ],
 "metadata": {
  "kernelspec": {
   "display_name": "Python 3",
   "language": "python",
   "name": "python3"
  },
  "language_info": {
   "codemirror_mode": {
    "name": "ipython",
    "version": 3
   },
   "file_extension": ".py",
   "mimetype": "text/x-python",
   "name": "python",
   "nbconvert_exporter": "python",
   "pygments_lexer": "ipython3",
   "version": "3.6.4"
  }
 },
 "nbformat": 4,
 "nbformat_minor": 2
}
